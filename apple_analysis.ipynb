{
 "cells": [
  {
   "cell_type": "code",
   "execution_count": 0,
   "metadata": {
    "application/vnd.databricks.v1+cell": {
     "cellMetadata": {
      "byteLimit": 2048000,
      "rowLimit": 10000
     },
     "inputWidgets": {},
     "nuid": "ee9466d7-9132-4c1f-9bc6-5153ef21ad3e",
     "showTitle": false,
     "tableResultSettingsMap": {},
     "title": ""
    }
   },
   "outputs": [],
   "source": [
    "%run \"./transform\""
   ]
  },
  {
   "cell_type": "code",
   "execution_count": 0,
   "metadata": {
    "application/vnd.databricks.v1+cell": {
     "cellMetadata": {
      "byteLimit": 2048000,
      "rowLimit": 10000
     },
     "inputWidgets": {},
     "nuid": "a52b8931-9706-4341-b6c5-0e4566b5a7de",
     "showTitle": false,
     "tableResultSettingsMap": {},
     "title": ""
    }
   },
   "outputs": [],
   "source": [
    "%run \"./extractor\""
   ]
  },
  {
   "cell_type": "code",
   "execution_count": 0,
   "metadata": {
    "application/vnd.databricks.v1+cell": {
     "cellMetadata": {
      "byteLimit": 2048000,
      "rowLimit": 10000
     },
     "inputWidgets": {},
     "nuid": "49af2e3f-e5bc-43a8-a929-e9c55cff1864",
     "showTitle": false,
     "tableResultSettingsMap": {},
     "title": ""
    }
   },
   "outputs": [],
   "source": [
    "%run \"./loader\""
   ]
  },
  {
   "cell_type": "code",
   "execution_count": 0,
   "metadata": {
    "application/vnd.databricks.v1+cell": {
     "cellMetadata": {
      "byteLimit": 2048000,
      "rowLimit": 10000
     },
     "inputWidgets": {},
     "nuid": "03cbf405-f6a0-408f-9c60-a8a719011d39",
     "showTitle": false,
     "tableResultSettingsMap": {},
     "title": ""
    }
   },
   "outputs": [
    {
     "output_type": "stream",
     "name": "stdout",
     "output_type": "stream",
     "text": [
      "+--------------+-----------+------------+----------------+\n|transaction_id|customer_id|product_name|transaction_date|\n+--------------+-----------+------------+----------------+\n|            11|        105|      iPhone|      2022-02-01|\n|            14|        105|     AirPods|      2022-02-04|\n|            18|        105|     MacBook|      2022-02-08|\n|            12|        106|      iPhone|      2022-02-02|\n|            16|        106|     MacBook|      2022-02-06|\n|            20|        106|     AirPods|      2022-02-10|\n|            13|        107|     AirPods|      2022-02-03|\n|            17|        107|      iPhone|      2022-02-07|\n|            15|        108|      iPhone|      2022-02-05|\n|            19|        108|     AirPods|      2022-02-09|\n+--------------+-----------+------------+----------------+\n\ntranscatioInputDF in transform\n+--------------+-----------+------------+----------------+\n|transaction_id|customer_id|product_name|transaction_date|\n+--------------+-----------+------------+----------------+\n|            11|        105|      iPhone|      2022-02-01|\n|            12|        106|      iPhone|      2022-02-02|\n|            13|        107|     AirPods|      2022-02-03|\n|            14|        105|     AirPods|      2022-02-04|\n|            15|        108|      iPhone|      2022-02-05|\n|            16|        106|     MacBook|      2022-02-06|\n|            17|        107|      iPhone|      2022-02-07|\n|            18|        105|     MacBook|      2022-02-08|\n|            19|        108|     AirPods|      2022-02-09|\n|            20|        106|     AirPods|      2022-02-10|\n+--------------+-----------+------------+----------------+\n\nAirpods after buying iphone\n+--------------+-----------+------------+----------------+-----------------+\n|transaction_id|customer_id|product_name|transaction_date|next_product_name|\n+--------------+-----------+------------+----------------+-----------------+\n|            11|        105|      iPhone|      2022-02-01|          AirPods|\n|            14|        105|     AirPods|      2022-02-04|          MacBook|\n|            18|        105|     MacBook|      2022-02-08|             null|\n|            12|        106|      iPhone|      2022-02-02|          MacBook|\n|            16|        106|     MacBook|      2022-02-06|          AirPods|\n|            20|        106|     AirPods|      2022-02-10|             null|\n|            13|        107|     AirPods|      2022-02-03|           iPhone|\n|            17|        107|      iPhone|      2022-02-07|             null|\n|            15|        108|      iPhone|      2022-02-05|          AirPods|\n|            19|        108|     AirPods|      2022-02-09|             null|\n+--------------+-----------+------------+----------------+-----------------+\n\n+--------------+-----------+------------+----------------+-----------------+\n|transaction_id|customer_id|product_name|transaction_date|next_product_name|\n+--------------+-----------+------------+----------------+-----------------+\n|            11|        105|      iPhone|      2022-02-01|          AirPods|\n|            15|        108|      iPhone|      2022-02-05|          AirPods|\n+--------------+-----------+------------+----------------+-----------------+\n\n+-----------+-------------+----------+--------+\n|customer_id|customer_name| join_date|location|\n+-----------+-------------+----------+--------+\n|        105|          Eva|2022-01-01|    Ohio|\n|        106|        Frank|2022-02-01|  Nevada|\n|        107|        Grace|2022-03-01|Colorado|\n|        108|        Henry|2022-04-01|    Utah|\n+-----------+-------------+----------+--------+\n\nJOINED DF\n+-----------+-------------+----------+--------+--------------+------------+----------------+-----------------+\n|customer_id|customer_name| join_date|location|transaction_id|product_name|transaction_date|next_product_name|\n+-----------+-------------+----------+--------+--------------+------------+----------------+-----------------+\n|        105|          Eva|2022-01-01|    Ohio|            11|      iPhone|      2022-02-01|          AirPods|\n|        108|        Henry|2022-04-01|    Utah|            15|      iPhone|      2022-02-05|          AirPods|\n+-----------+-------------+----------+--------+--------------+------------+----------------+-----------------+\n\n"
     ]
    }
   ],
   "source": [
    "class WorkFlow:\n",
    "    \"\"\"\n",
    "    ETL pipeline to generate the data for all customers who have bought Airpods just after buying iPhone\n",
    "    \"\"\" \n",
    "    def __init__(self):\n",
    "        pass\n",
    "\n",
    "    def runner(self):\n",
    "\n",
    "        # Step 1: Extract all required data from different source\n",
    "        inputDFs = AirpodsAfterIphoneExtractor().extract()\n",
    "\n",
    "        # Step 2: Implement the Transformation logic\n",
    "        # Customers who have bought Airpods after buying the iPhone\n",
    "        firstTransformedDF = AirpodsAfterIphoneTransformer().transform(inputDFs)\n",
    "\n",
    "        # Step 3: Load all required data to differnt sink\n",
    "        AirPodsAfterIphoneLoader(firstTransformedDF).sink()\n",
    "\n",
    "workFlow = WorkFlow().runner()\n",
    "    \n",
    "\n",
    "\n",
    "        \n"
   ]
  },
  {
   "cell_type": "code",
   "execution_count": 0,
   "metadata": {
    "application/vnd.databricks.v1+cell": {
     "cellMetadata": {
      "byteLimit": 2048000,
      "rowLimit": 10000
     },
     "inputWidgets": {},
     "nuid": "1fbb9ca3-00fc-4e0d-9c03-5296e376cf64",
     "showTitle": false,
     "tableResultSettingsMap": {},
     "title": ""
    }
   },
   "outputs": [],
   "source": [
    "class SecondWorkFlow:\n",
    "    \"\"\"\n",
    "    ETL pipeline to generate the data for all customers who have bought only iPhone and Customers\n",
    "    \"\"\" \n",
    "    def __init__(self):\n",
    "        pass\n",
    "\n",
    "    def runner(self):\n",
    "\n",
    "        # Step 1: Extract all required data from different source\n",
    "        inputDFs = AirpodsAfterIphoneExtractor().extract()\n",
    "\n",
    "        # Step 2: Implement the Transformation logic\n",
    "        # Customers who have bought Airpods after buying the iPhone\n",
    "        onlyAirpodsAndIphoneDF = OnlyAirpodsAndIphone().transform(inputDFs)\n",
    "\n",
    "        # Step 3: Load all required data to differnt sink\n",
    "        OnlyAirpodsAndIPhoneLoader(onlyAirpodsAndIphoneDF).sink()\n",
    "        "
   ]
  },
  {
   "cell_type": "code",
   "execution_count": 0,
   "metadata": {
    "application/vnd.databricks.v1+cell": {
     "cellMetadata": {
      "byteLimit": 2048000,
      "rowLimit": 10000
     },
     "inputWidgets": {},
     "nuid": "74bc6a90-2db4-4820-8688-fa28ad913074",
     "showTitle": false,
     "tableResultSettingsMap": {},
     "title": ""
    }
   },
   "outputs": [
    {
     "output_type": "stream",
     "name": "stdout",
     "output_type": "stream",
     "text": [
      "+--------------+-----------+------------+----------------+\n|transaction_id|customer_id|product_name|transaction_date|\n+--------------+-----------+------------+----------------+\n|            11|        105|      iPhone|      2022-02-01|\n|            14|        105|     AirPods|      2022-02-04|\n|            18|        105|     MacBook|      2022-02-08|\n|            12|        106|      iPhone|      2022-02-02|\n|            16|        106|     MacBook|      2022-02-06|\n|            20|        106|     AirPods|      2022-02-10|\n|            13|        107|     AirPods|      2022-02-03|\n|            17|        107|      iPhone|      2022-02-07|\n|            15|        108|      iPhone|      2022-02-05|\n|            19|        108|     AirPods|      2022-02-09|\n+--------------+-----------+------------+----------------+\n\ntranscatioInputDF in transform\nGrouped DF\n+-----------+--------------------+\n|customer_id|            products|\n+-----------+--------------------+\n|        107|   [AirPods, iPhone]|\n|        108|   [AirPods, iPhone]|\n|        106|[AirPods, iPhone,...|\n|        105|[AirPods, iPhone,...|\n+-----------+--------------------+\n\nOnly Airpods and iPhone\n+-----------+-----------------+\n|customer_id|         products|\n+-----------+-----------------+\n|        107|[AirPods, iPhone]|\n|        108|[AirPods, iPhone]|\n+-----------+-----------------+\n\n+-----------+-------------+----------+--------+\n|customer_id|customer_name| join_date|location|\n+-----------+-------------+----------+--------+\n|        105|          Eva|2022-01-01|    Ohio|\n|        106|        Frank|2022-02-01|  Nevada|\n|        107|        Grace|2022-03-01|Colorado|\n|        108|        Henry|2022-04-01|    Utah|\n+-----------+-------------+----------+--------+\n\nJOINED DF\n+-----------+-------------+----------+--------+-----------------+\n|customer_id|customer_name| join_date|location|         products|\n+-----------+-------------+----------+--------+-----------------+\n|        107|        Grace|2022-03-01|Colorado|[AirPods, iPhone]|\n|        108|        Henry|2022-04-01|    Utah|[AirPods, iPhone]|\n+-----------+-------------+----------+--------+-----------------+\n\n"
     ]
    }
   ],
   "source": [
    "class WorkFlowRunner:\n",
    "\n",
    "    def __init__(self, name):\n",
    "        self.name = name\n",
    "\n",
    "    def runner(self):\n",
    "        if self.name == \"firstWorkFlow\":\n",
    "            return FirstWorkFlow().runner()\n",
    "        elif self.name == \"secondWorkFlow\":\n",
    "            return SecondWorkFlow().runner()\n",
    "        else:\n",
    "            raise ValueError(f\"Not Implemented for {self.name}\")\n",
    "\n",
    "name = \"secondWorkFlow\" \n",
    "\n",
    "workFlowrunner = WorkFlowRunner(name).runner()\n"
   ]
  }
 ],
 "metadata": {
  "application/vnd.databricks.v1+notebook": {
   "dashboards": [],
   "environmentMetadata": {
    "base_environment": "",
    "client": "1"
   },
   "language": "python",
   "notebookMetadata": {
    "pythonIndentUnit": 4
   },
   "notebookName": "apple_analysis",
   "widgets": {}
  }
 },
 "nbformat": 4,
 "nbformat_minor": 0
}
